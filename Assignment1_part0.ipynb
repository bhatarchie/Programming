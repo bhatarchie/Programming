{
 "cells": [
  {
   "cell_type": "code",
   "execution_count": 12,
   "metadata": {},
   "outputs": [
    {
     "name": "stdout",
     "output_type": "stream",
     "text": [
      "Variabels:  15 15.0 15 Type:  <class 'int'> <class 'float'> <class 'str'>\n",
      "Variabel:  15 <class 'int'> 15.0 <class 'float'> 15 <class 'str'>\n"
     ]
    }
   ],
   "source": [
    "a = 15\n",
    "b = float(a)\n",
    "c = str(a)\n",
    "print(\"Variabels: \" ,a,b,c, \"Type: \", type(a), type(b), type(c))\n",
    "print(\"Variabel: \" ,a, type(a), b, type(b), c, type(c))"
   ]
  },
  {
   "cell_type": "code",
   "execution_count": 11,
   "metadata": {},
   "outputs": [
    {
     "name": "stdout",
     "output_type": "stream",
     "text": [
      "Conversion str 9253, to int 9253, float 9253.0 \n"
     ]
    }
   ],
   "source": [
    "b = \"9253\"  \n",
    "int_b = int(b)    # converting from string to int\n",
    "\n",
    "float_b = float(b)  # converting from string to float\n",
    "print('Conversion str {}, to int {}, float {} ' .format(b, int_b, float_b))\n"
   ]
  },
  {
   "cell_type": "code",
   "execution_count": 3,
   "metadata": {},
   "outputs": [
    {
     "data": {
      "text/plain": [
       "True"
      ]
     },
     "execution_count": 3,
     "metadata": {},
     "output_type": "execute_result"
    }
   ],
   "source": [
    "bool(0+10)\n"
   ]
  },
  {
   "cell_type": "code",
   "execution_count": 4,
   "metadata": {},
   "outputs": [
    {
     "data": {
      "text/plain": [
       "False"
      ]
     },
     "execution_count": 4,
     "metadata": {},
     "output_type": "execute_result"
    }
   ],
   "source": [
    "bool(0.0 + 0.0)"
   ]
  },
  {
   "cell_type": "code",
   "execution_count": 5,
   "metadata": {},
   "outputs": [
    {
     "name": "stdout",
     "output_type": "stream",
     "text": [
      "id(a) = 1697082624 \n",
      "id(b) = 1697082624\n",
      "id after b = b+11\n",
      "id(a) = 1697082624 \n",
      "id(b) = 1697082976\n"
     ]
    }
   ],
   "source": [
    "a = 7   # a points to the object 7, hence same id\n",
    "id(a)\n",
    "    \n",
    "b = a\n",
    "id(b)\n",
    "print(\"id(a) =\", id(a), \"\\nid(b) =\", id(b))\n",
    "\n",
    "print(\"id after b = b+11\")\n",
    "b = b+11 \n",
    "id(b)\n",
    "print(\"id(a) =\", id(a), \"\\nid(b) =\", id(b))"
   ]
  },
  {
   "cell_type": "code",
   "execution_count": 6,
   "metadata": {},
   "outputs": [
    {
     "data": {
      "text/plain": [
       "str"
      ]
     },
     "execution_count": 6,
     "metadata": {},
     "output_type": "execute_result"
    }
   ],
   "source": [
    "w = \"87t\"\n",
    "type(w)"
   ]
  },
  {
   "cell_type": "code",
   "execution_count": 8,
   "metadata": {},
   "outputs": [
    {
     "ename": "ValueError",
     "evalue": "could not convert string to float: '87t'",
     "output_type": "error",
     "traceback": [
      "\u001b[1;31m---------------------------------------------------------------------------\u001b[0m",
      "\u001b[1;31mValueError\u001b[0m                                Traceback (most recent call last)",
      "\u001b[1;32m<ipython-input-8-5dfb536899bc>\u001b[0m in \u001b[0;36m<module>\u001b[1;34m()\u001b[0m\n\u001b[1;32m----> 1\u001b[1;33m \u001b[0mz\u001b[0m \u001b[1;33m=\u001b[0m \u001b[0mfloat\u001b[0m\u001b[1;33m(\u001b[0m\u001b[0mw\u001b[0m\u001b[1;33m)\u001b[0m  \u001b[1;31m# cannot convert as it got character in the string\u001b[0m\u001b[1;33m\u001b[0m\u001b[0m\n\u001b[0m\u001b[0;32m      2\u001b[0m \u001b[0mtype\u001b[0m\u001b[1;33m(\u001b[0m\u001b[0mz\u001b[0m\u001b[1;33m)\u001b[0m\u001b[1;33m\u001b[0m\u001b[0m\n",
      "\u001b[1;31mValueError\u001b[0m: could not convert string to float: '87t'"
     ]
    }
   ],
   "source": [
    "z = float(w)  # cannot convert as it got character in the string\n",
    "type(z)"
   ]
  },
  {
   "cell_type": "code",
   "execution_count": 10,
   "metadata": {},
   "outputs": [
    {
     "name": "stdout",
     "output_type": "stream",
     "text": [
      "Not a float\n"
     ]
    }
   ],
   "source": [
    "try:\n",
    "    float(w)\n",
    "except ValueError:\n",
    "    print(\"Not a float\" )"
   ]
  },
  {
   "cell_type": "code",
   "execution_count": null,
   "metadata": {},
   "outputs": [],
   "source": []
  }
 ],
 "metadata": {
  "kernelspec": {
   "display_name": "Python 3",
   "language": "python",
   "name": "python3"
  },
  "language_info": {
   "codemirror_mode": {
    "name": "ipython",
    "version": 3
   },
   "file_extension": ".py",
   "mimetype": "text/x-python",
   "name": "python",
   "nbconvert_exporter": "python",
   "pygments_lexer": "ipython3",
   "version": "3.6.5"
  }
 },
 "nbformat": 4,
 "nbformat_minor": 2
}
