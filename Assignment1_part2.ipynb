{
 "cells": [
  {
   "cell_type": "code",
   "execution_count": 25,
   "metadata": {},
   "outputs": [
    {
     "name": "stdout",
     "output_type": "stream",
     "text": [
      "The nearest city is:  Boston\n"
     ]
    }
   ],
   "source": [
    "Nearest_city = 'Boston'\n",
    "print('The nearest city is: ' , Nearest_city)"
   ]
  },
  {
   "cell_type": "code",
   "execution_count": 26,
   "metadata": {},
   "outputs": [
    {
     "name": "stdout",
     "output_type": "stream",
     "text": [
      "Area of Rectangle is:  200\n"
     ]
    }
   ],
   "source": [
    "width_rec = 10\n",
    "height_rec = 20\n",
    "area_rec = width_rec * height_rec\n",
    "print(\"Area of Rectangle is: \" ,area_rec)"
   ]
  },
  {
   "cell_type": "code",
   "execution_count": 27,
   "metadata": {},
   "outputs": [],
   "source": [
    "print = \"Total\"  # print is a function not a variable for assignment."
   ]
  },
  {
   "cell_type": "code",
   "execution_count": 2,
   "metadata": {},
   "outputs": [
    {
     "name": "stdout",
     "output_type": "stream",
     "text": [
      "Values initial 1923, Type <class 'str'>, Id 88004680 \n",
      "Updated Values 1923, Type <class 'int'>, Id 85703056 \n"
     ]
    }
   ],
   "source": [
    "hg = \"1923\"\n",
    "print('Values initial {}, Type {}, Id {} ' .format(hg, type(hg), id(hg)))\n",
    "int_hg = int(hg)\n",
    "print('Updated Values {}, Type {}, Id {} ' .format(int_hg, type(int_hg), id(int_hg)))"
   ]
  },
  {
   "cell_type": "code",
   "execution_count": null,
   "metadata": {},
   "outputs": [],
   "source": []
  }
 ],
 "metadata": {
  "kernelspec": {
   "display_name": "Python 3",
   "language": "python",
   "name": "python3"
  },
  "language_info": {
   "codemirror_mode": {
    "name": "ipython",
    "version": 3
   },
   "file_extension": ".py",
   "mimetype": "text/x-python",
   "name": "python",
   "nbconvert_exporter": "python",
   "pygments_lexer": "ipython3",
   "version": "3.6.5"
  }
 },
 "nbformat": 4,
 "nbformat_minor": 2
}
