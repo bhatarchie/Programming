{
 "cells": [
  {
   "cell_type": "code",
   "execution_count": 3,
   "metadata": {},
   "outputs": [
    {
     "name": "stdout",
     "output_type": "stream",
     "text": [
      "new value is 1723.3790 \n"
     ]
    }
   ],
   "source": [
    "w1 = 1723.3789913\n",
    "print('new value is {:09.4f} ' .format(1723.3789913))"
   ]
  },
  {
   "cell_type": "code",
   "execution_count": 16,
   "metadata": {},
   "outputs": [
    {
     "name": "stdout",
     "output_type": "stream",
     "text": [
      "Changed values: a1 as int 16, b1 as str working, c1 as float 19.0 \n"
     ]
    }
   ],
   "source": [
    "a1 = 16.789\n",
    "b1 = \"working\"\n",
    "c1 = 19\n",
    "print(\"Changed values: a1 as int {}, b1 as str {}, c1 as float {} \" .format(int(a1), str(b1), float(c1)))"
   ]
  },
  {
   "cell_type": "code",
   "execution_count": 17,
   "metadata": {},
   "outputs": [
    {
     "name": "stdout",
     "output_type": "stream",
     "text": [
      "Enter any integer: 3\n",
      "Input 3, SquaredResult 9\n"
     ]
    }
   ],
   "source": [
    "user_no = input(\"Enter any integer: \")  # user input any integer\n",
    "user_no = int(user_no)           # convert the input string to int\n",
    "sq_no = user_no**2\n",
    "print(\"Input {}, SquaredResult {}\" .format(user_no, sq_no))\n"
   ]
  },
  {
   "cell_type": "code",
   "execution_count": 24,
   "metadata": {},
   "outputs": [
    {
     "name": "stdout",
     "output_type": "stream",
     "text": [
      "First is 81 , Second is 729 \n",
      "First is 729 , Second is 81 \n"
     ]
    }
   ],
   "source": [
    "x = 81\n",
    "y = 729\n",
    "print(\"First is {0} , Second is {1} \" .format(x, y))\n",
    "print(\"First is {1} , Second is {0} \" .format(x, y))"
   ]
  },
  {
   "cell_type": "code",
   "execution_count": null,
   "metadata": {},
   "outputs": [],
   "source": [
    "format(int(a1), str(b1), float(c1))"
   ]
  }
 ],
 "metadata": {
  "kernelspec": {
   "display_name": "Python 3",
   "language": "python",
   "name": "python3"
  },
  "language_info": {
   "codemirror_mode": {
    "name": "ipython",
    "version": 3
   },
   "file_extension": ".py",
   "mimetype": "text/x-python",
   "name": "python",
   "nbconvert_exporter": "python",
   "pygments_lexer": "ipython3",
   "version": "3.6.5"
  }
 },
 "nbformat": 4,
 "nbformat_minor": 2
}
